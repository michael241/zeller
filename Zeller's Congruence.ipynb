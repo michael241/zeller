{
 "cells": [
  {
   "cell_type": "markdown",
   "metadata": {},
   "source": [
    "## Zeller's Congruence Function\n",
    "Takes the year, month, and day as inputs.\n",
    "The day of the week is returned as follows: <br>\n",
    "* 0 = Saturday <br>\n",
    "* 1 = Sunday <br>\n",
    "* 2 = Monday <br>\n",
    "* 3 = Tuesday <br>\n",
    "* 4 = Wednesday <br>\n",
    "* 5 = Thursday <br>\n",
    "* 6 = Friday"
   ]
  },
  {
   "cell_type": "code",
   "execution_count": 2,
   "metadata": {},
   "outputs": [],
   "source": [
    "def zeller(year,month,day):\n",
    "    #month adjustments\n",
    "    if month==1 or month ==2:\n",
    "        month+=12\n",
    "        year-=1\n",
    "        \n",
    "    #assignment of terms\n",
    "    q = day\n",
    "    m = month        \n",
    "    j = year//100\n",
    "    k = year % 100 \n",
    "    \n",
    "    #computation\n",
    "    h = (q + (13*(m+1))//5 + k + (k//4) + (j//4) - (2*j))%7\n",
    "    \n",
    "    #return\n",
    "    return(h)"
   ]
  }
 ],
 "metadata": {
  "kernelspec": {
   "display_name": "Python 3",
   "language": "python",
   "name": "python3"
  },
  "language_info": {
   "codemirror_mode": {
    "name": "ipython",
    "version": 3
   },
   "file_extension": ".py",
   "mimetype": "text/x-python",
   "name": "python",
   "nbconvert_exporter": "python",
   "pygments_lexer": "ipython3",
   "version": "3.6.2"
  }
 },
 "nbformat": 4,
 "nbformat_minor": 2
}
